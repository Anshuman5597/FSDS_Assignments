{
 "cells": [
  {
   "cell_type": "code",
   "execution_count": 18,
   "id": "55e75c29",
   "metadata": {},
   "outputs": [],
   "source": [
    "def replace_string_in_a_file(filename,old_string,new_string):\n",
    "    try:\n",
    "        with open(filename, \"rt\") as fin:\n",
    "            data=fin.read()\n",
    "            new_data=data.replace(old_string,new_string)\n",
    "            fin.close()\n",
    "        with open(filename, \"wt\") as fout:\n",
    "            fout.write(new_data)\n",
    "            fout.close()\n",
    "    except Exception as e:\n",
    "        print(\"Failed to open file:\"+str(e))"
   ]
  },
  {
   "cell_type": "code",
   "execution_count": 22,
   "id": "613ad890",
   "metadata": {},
   "outputs": [],
   "source": [
    "replace_string_in_a_file(\"student.txt\",\"scereening\",\"placement\")"
   ]
  },
  {
   "cell_type": "code",
   "execution_count": null,
   "id": "958470c2",
   "metadata": {},
   "outputs": [],
   "source": [
    "\n",
    "        "
   ]
  },
  {
   "cell_type": "markdown",
   "id": "d9ad30aa",
   "metadata": {},
   "source": [
    "# Abstract Class"
   ]
  }
 ],
 "metadata": {
  "kernelspec": {
   "display_name": "Python 3 (ipykernel)",
   "language": "python",
   "name": "python3"
  },
  "language_info": {
   "codemirror_mode": {
    "name": "ipython",
    "version": 3
   },
   "file_extension": ".py",
   "mimetype": "text/x-python",
   "name": "python",
   "nbconvert_exporter": "python",
   "pygments_lexer": "ipython3",
   "version": "3.9.7"
  }
 },
 "nbformat": 4,
 "nbformat_minor": 5
}
