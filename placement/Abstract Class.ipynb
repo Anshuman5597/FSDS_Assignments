{
 "cells": [
  {
   "cell_type": "markdown",
   "id": "57948a94",
   "metadata": {},
   "source": [
    "# Abstract Class"
   ]
  },
  {
   "cell_type": "code",
   "execution_count": 1,
   "id": "5b09b918",
   "metadata": {},
   "outputs": [],
   "source": [
    "from abc import ABC,abstractmethod"
   ]
  },
  {
   "cell_type": "code",
   "execution_count": 8,
   "id": "d238682f",
   "metadata": {},
   "outputs": [],
   "source": [
    "class shape(ABC):\n",
    "    @abstractmethod\n",
    "    def printArea(self):\n",
    "        pass"
   ]
  },
  {
   "cell_type": "code",
   "execution_count": 14,
   "id": "ff0acb0f",
   "metadata": {},
   "outputs": [],
   "source": [
    "class rectangle(shape):\n",
    "    #overriding abstract function\n",
    "    def printArea(self):\n",
    "        print(\"The area od rectancle is length*breadth\")\n",
    "\n",
    "class square(shape):\n",
    "    #overriding abstract function\n",
    "    type=\"square\"\n",
    "    \n",
    "    "
   ]
  },
  {
   "cell_type": "code",
   "execution_count": 15,
   "id": "4a5f5108",
   "metadata": {},
   "outputs": [
    {
     "name": "stdout",
     "output_type": "stream",
     "text": [
      "The area od rectancle is length*breadth\n"
     ]
    }
   ],
   "source": [
    "rect=rectangle()\n",
    "rect.printArea()"
   ]
  },
  {
   "cell_type": "markdown",
   "id": "52db67e8",
   "metadata": {},
   "source": [
    "1-We can make a class abstract by inheriting ABC .  \n",
    "2-The class which is inheriting abstract class needs to implement the abstract method  \n",
    "3-We cannot instantiate abstract class  "
   ]
  },
  {
   "cell_type": "code",
   "execution_count": 16,
   "id": "4ac79802",
   "metadata": {},
   "outputs": [
    {
     "ename": "TypeError",
     "evalue": "Can't instantiate abstract class shape with abstract method printArea",
     "output_type": "error",
     "traceback": [
      "\u001b[1;31m---------------------------------------------------------------------------\u001b[0m",
      "\u001b[1;31mTypeError\u001b[0m                                 Traceback (most recent call last)",
      "\u001b[1;32m~\\AppData\\Local\\Temp/ipykernel_11328/3871903530.py\u001b[0m in \u001b[0;36m<module>\u001b[1;34m\u001b[0m\n\u001b[1;32m----> 1\u001b[1;33m \u001b[0ms\u001b[0m\u001b[1;33m=\u001b[0m\u001b[0mshape\u001b[0m\u001b[1;33m(\u001b[0m\u001b[1;33m)\u001b[0m\u001b[1;33m\u001b[0m\u001b[1;33m\u001b[0m\u001b[0m\n\u001b[0m",
      "\u001b[1;31mTypeError\u001b[0m: Can't instantiate abstract class shape with abstract method printArea"
     ]
    }
   ],
   "source": [
    "s=shape()"
   ]
  },
  {
   "cell_type": "code",
   "execution_count": 17,
   "id": "f157ed05",
   "metadata": {},
   "outputs": [
    {
     "ename": "TypeError",
     "evalue": "Can't instantiate abstract class square with abstract method printArea",
     "output_type": "error",
     "traceback": [
      "\u001b[1;31m---------------------------------------------------------------------------\u001b[0m",
      "\u001b[1;31mTypeError\u001b[0m                                 Traceback (most recent call last)",
      "\u001b[1;32m~\\AppData\\Local\\Temp/ipykernel_11328/4229482852.py\u001b[0m in \u001b[0;36m<module>\u001b[1;34m\u001b[0m\n\u001b[1;32m----> 1\u001b[1;33m \u001b[0ms\u001b[0m\u001b[1;33m=\u001b[0m\u001b[0msquare\u001b[0m\u001b[1;33m(\u001b[0m\u001b[1;33m)\u001b[0m\u001b[1;33m\u001b[0m\u001b[1;33m\u001b[0m\u001b[0m\n\u001b[0m",
      "\u001b[1;31mTypeError\u001b[0m: Can't instantiate abstract class square with abstract method printArea"
     ]
    }
   ],
   "source": [
    "s=square()"
   ]
  },
  {
   "cell_type": "code",
   "execution_count": null,
   "id": "5e8c92ef",
   "metadata": {},
   "outputs": [],
   "source": []
  }
 ],
 "metadata": {
  "kernelspec": {
   "display_name": "Python 3 (ipykernel)",
   "language": "python",
   "name": "python3"
  },
  "language_info": {
   "codemirror_mode": {
    "name": "ipython",
    "version": 3
   },
   "file_extension": ".py",
   "mimetype": "text/x-python",
   "name": "python",
   "nbconvert_exporter": "python",
   "pygments_lexer": "ipython3",
   "version": "3.9.7"
  }
 },
 "nbformat": 4,
 "nbformat_minor": 5
}
