{
 "cells": [
  {
   "cell_type": "markdown",
   "id": "567cfd8f",
   "metadata": {},
   "source": [
    "# Multiple Inheritance"
   ]
  },
  {
   "cell_type": "code",
   "execution_count": 12,
   "id": "396e22ec",
   "metadata": {},
   "outputs": [],
   "source": [
    "class parent1:\n",
    "    def display1(self):\n",
    "        print(\"In class parent1\")\n",
    "    \n",
    "    def method(self):\n",
    "        print(\"In class parent1\")\n",
    "        \n",
    "class parent2:\n",
    "    def display2(self):\n",
    "        print(\"In class parent2\")\n",
    "    \n",
    "    def method(self):\n",
    "        print(\"In class parent2\")\n",
    "        \n",
    "class child(parent1,parent2):\n",
    "     def method(self):\n",
    "        print(\"In class child\")"
   ]
  },
  {
   "cell_type": "code",
   "execution_count": 13,
   "id": "bb014cd5",
   "metadata": {},
   "outputs": [
    {
     "name": "stdout",
     "output_type": "stream",
     "text": [
      "In class parent1\n",
      "In class parent2\n"
     ]
    }
   ],
   "source": [
    "c=child();\n",
    "c.display1()\n",
    "c.display2()"
   ]
  },
  {
   "cell_type": "markdown",
   "id": "a106f5c3",
   "metadata": {},
   "source": [
    "When a class is derived from more than one base class it is called multiple Inheritance. The derived class inherits all the features of the base case.  \n"
   ]
  },
  {
   "cell_type": "code",
   "execution_count": 15,
   "id": "e2491f7e",
   "metadata": {},
   "outputs": [
    {
     "name": "stdout",
     "output_type": "stream",
     "text": [
      "In class child\n"
     ]
    }
   ],
   "source": [
    "c.method() # when we overide the method the child class method is called"
   ]
  },
  {
   "cell_type": "code",
   "execution_count": null,
   "id": "fa217fcc",
   "metadata": {},
   "outputs": [],
   "source": []
  }
 ],
 "metadata": {
  "kernelspec": {
   "display_name": "Python 3 (ipykernel)",
   "language": "python",
   "name": "python3"
  },
  "language_info": {
   "codemirror_mode": {
    "name": "ipython",
    "version": 3
   },
   "file_extension": ".py",
   "mimetype": "text/x-python",
   "name": "python",
   "nbconvert_exporter": "python",
   "pygments_lexer": "ipython3",
   "version": "3.9.7"
  }
 },
 "nbformat": 4,
 "nbformat_minor": 5
}
